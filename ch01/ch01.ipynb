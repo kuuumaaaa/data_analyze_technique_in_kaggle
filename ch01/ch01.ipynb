{
  "nbformat": 4,
  "nbformat_minor": 0,
  "metadata": {
    "colab": {
      "name": "ch01.ipynb",
      "provenance": [],
      "collapsed_sections": [],
      "mount_file_id": "1lmTk12DZ3ClZivUT7gWX1nTK8QDX4kqq",
      "authorship_tag": "ABX9TyOWH8K6XBZrymVMq6JGIHeT",
      "include_colab_link": true
    },
    "kernelspec": {
      "name": "python3",
      "display_name": "Python 3"
    },
    "language_info": {
      "name": "python"
    }
  },
  "cells": [
    {
      "cell_type": "markdown",
      "metadata": {
        "id": "view-in-github",
        "colab_type": "text"
      },
      "source": [
        "<a href=\"https://colab.research.google.com/github/kuuumaaaa/data_analyze_technique_in_kaggle/blob/main/ch01/ch01.ipynb\" target=\"_parent\"><img src=\"https://colab.research.google.com/assets/colab-badge.svg\" alt=\"Open In Colab\"/></a>"
      ]
    },
    {
      "cell_type": "code",
      "metadata": {
        "id": "g4lQNt5PfCsY"
      },
      "source": [
        "import numpy as np\n",
        "import pandas as pd"
      ],
      "execution_count": null,
      "outputs": []
    },
    {
      "cell_type": "markdown",
      "metadata": {
        "id": "5fEhZlOChTX9"
      },
      "source": [
        "学習データとテストデータの読み込み\n",
        "\n",
        "\n",
        "\n",
        "\n"
      ]
    },
    {
      "cell_type": "code",
      "metadata": {
        "id": "b_xk09xYfIY1"
      },
      "source": [
        "train = pd.read_csv('/content/drive/MyDrive/参考書/Kaggleで勝つデータ分析の技術/kagglebook-master/input/ch01-titanic/train.csv')\n",
        "train_x = train.drop(['Survived'],axis =1)\n",
        "train_y = train['Survived']\n",
        "test = pd.read_csv('/content/drive/MyDrive/参考書/Kaggleで勝つデータ分析の技術/kagglebook-master/input/ch01-titanic/test.csv')\n",
        "test_x = test.copy()"
      ],
      "execution_count": null,
      "outputs": []
    },
    {
      "cell_type": "markdown",
      "metadata": {
        "id": "k6g1Hqt3i4lh"
      },
      "source": [
        "# EDAのポイント\n",
        "カラムの把握、各カラムの方や値の分布、欠損値、外れ値、目的変数と各変数の相関や関係性\n",
        "- 変数の平均・標準偏差・最大・最小・分位点\n",
        "- カテゴリ変数の値の種類数\n",
        "- 変数の欠損値の値\n",
        "- 変数間の相関関係"
      ]
    },
    {
      "cell_type": "markdown",
      "metadata": {
        "id": "153grtxohdp-"
      },
      "source": [
        "バリデーションデータへの分け方"
      ]
    },
    {
      "cell_type": "code",
      "metadata": {
        "id": "TqyA38GOgcZq"
      },
      "source": [
        "from sklearn.model_selection import KFold\n",
        "\n",
        "kf = KFold(n_splits=4, shuffle=True, random_state=71)\n",
        "tr_idx, va_idx = list(kf.split(train_x))[0]\n",
        "tr_x, va_x = train_x.iloc[tr_idx], train_x.iloc[va_idx]\n",
        "tr_y, va_y = train_y.iloc[tr_idx], train_y.iloc[va_idx]"
      ],
      "execution_count": null,
      "outputs": []
    },
    {
      "cell_type": "markdown",
      "metadata": {
        "id": "Jg9QGhiZIEhe"
      },
      "source": [
        "#特徴量の作成\n",
        "今回GBDTのモデルで作成\n",
        "- IDは予測に寄与しないため削除\n",
        "- Name,Ticket,Cabinについて煩雑な処理が必要なため削除\n",
        "- 文字はlabel encoding\n",
        "- 欠損はそのまま"
      ]
    },
    {
      "cell_type": "code",
      "metadata": {
        "id": "lrA8WRpVImk_"
      },
      "source": [
        "from  sklearn.preprocessing import LabelEncoder\n",
        "\n",
        "# 変数PassengerIdを除去\n",
        "train_x = train_x.drop(['PassengerId'],axis=1)\n",
        "test_x = test_x.drop(['PassengerId'],axis=1)\n",
        "\n",
        "# 変数Name,Ticket,Cabiを削除\n",
        "train_x = train_x.drop(['Name','Ticket','Cabin'],axis=1)\n",
        "test_x = test_x.drop(['Name','Ticket','Cabin'],axis=1)\n",
        "\n",
        "# それぞれのカテゴリ変数にlabel encoding\n",
        "for c in ['Sex','Embarked']:\n",
        "  # 学習データに基づいてどう変換するかを定める\n",
        "  le = LabelEncoder()\n",
        "  le.fit(train_x[c].fillna('NA'))\n",
        "\n",
        "  # 学習データ、テストデータを変換する\n",
        "  train_x[c] = le.transform(train_x[c].fillna('NA'))\n",
        "  test_x[c] = le.transform(test_x[c].fillna('NA'))"
      ],
      "execution_count": null,
      "outputs": []
    },
    {
      "cell_type": "markdown",
      "metadata": {
        "id": "Qj_0TgUBM-vE"
      },
      "source": [
        "#モデルの作成\n",
        "- GBDTのライブラリの一つであるxgboostを用いてモデルを学習"
      ]
    },
    {
      "cell_type": "code",
      "metadata": {
        "id": "cWmbDEWuOGUU"
      },
      "source": [
        "from xgboost import XGBClassifier\n",
        "\n",
        "# モデルの作成及び学習データを与えての学習\n",
        "model = XGBClassifier(n_estimators=20, random_state=71)\n",
        "# n_estimators : Number of gradient boosted trees. Equivalent to number of boosting rounds.(決定木の数)\n",
        "# random_state (Optional[Union[numpy.random.RandomState, int]]) –Random number seed.\n",
        "model.fit(train_x,train_y)\n",
        "\n",
        "# テストデータの予測値を確率で出力\n",
        "pred = model.predict_proba(test_x)[:,1]\n",
        "# Predict the probability of each X example being of a given class.\n",
        "\n",
        "# テストデータの予測値を二値に変換する\n",
        "pred_label = np.where(pred > 0.5,1,0)\n",
        "# 0.5以上を1に、それ以下を0にする\n",
        "\n",
        "# 提出用ファイルの作成\n",
        "submission = pd.DataFrame({'PassengerId':test['PassengerId'],'Survived':pred_label})\n",
        "submission.to_csv('/content/drive/MyDrive/参考書/Kaggleで勝つデータ分析の技術/outputs/ch01/submission_first.csv',index=False)"
      ],
      "execution_count": null,
      "outputs": []
    },
    {
      "cell_type": "code",
      "metadata": {
        "id": "VU_z5ZQTQ41y"
      },
      "source": [
        ""
      ],
      "execution_count": null,
      "outputs": []
    }
  ]
}