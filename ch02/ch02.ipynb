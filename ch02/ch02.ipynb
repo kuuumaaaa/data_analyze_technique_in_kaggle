{
  "nbformat": 4,
  "nbformat_minor": 0,
  "metadata": {
    "colab": {
      "name": "ch02.ipynb",
      "provenance": [],
      "collapsed_sections": [],
      "authorship_tag": "ABX9TyNhF7kbJCX8InJmTUzZHCrT",
      "include_colab_link": true
    },
    "kernelspec": {
      "name": "python3",
      "display_name": "Python 3"
    },
    "language_info": {
      "name": "python"
    }
  },
  "cells": [
    {
      "cell_type": "markdown",
      "metadata": {
        "id": "view-in-github",
        "colab_type": "text"
      },
      "source": [
        "<a href=\"https://colab.research.google.com/github/kuuumaaaa/data_analyze_technique_in_kaggle/blob/main/ch02/ch02.ipynb\" target=\"_parent\"><img src=\"https://colab.research.google.com/assets/colab-badge.svg\" alt=\"Open In Colab\"/></a>"
      ]
    },
    {
      "cell_type": "markdown",
      "metadata": {
        "id": "GD-v4X94t-dI"
      },
      "source": [
        "# 2値分類\n",
        "混同行列"
      ]
    },
    {
      "cell_type": "code",
      "metadata": {
        "colab": {
          "base_uri": "https://localhost:8080/"
        },
        "id": "TNFQOUwduIYn",
        "outputId": "47a7b1a6-707d-4e9f-d552-9002978e5c85"
      },
      "source": [
        "from sklearn.metrics import confusion_matrix\n",
        "import numpy as np\n",
        "\n",
        "# 0,1で表される二値分類の真の値と予測値\n",
        "y_true = [1, 0, 1, 1, 0, 1, 1, 0]\n",
        "y_pred = [0, 0, 1, 1, 0, 0, 1, 1]\n",
        "\n",
        "tp = np.sum((np.array(y_true) == 1) & (np.array(y_pred) == 1))\n",
        "tn = np.sum((np.array(y_true) == 1) & (np.array(y_pred) == 0))\n",
        "fp = np.sum((np.array(y_true) == 0) & (np.array(y_pred) == 1))\n",
        "fn = np.sum((np.array(y_true) == 0) & (np.array(y_pred) == 0))\n",
        "\n",
        "confusion_matrix1 = np.array([[tp,fp],[fn,tn]])\n",
        "print(confusion_matrix1)\n",
        "\n",
        "# scikit-learnの場合は混同配列の順番が異なる\n",
        "confusion_matrix2 = confusion_matrix(y_true, y_pred)\n",
        "print(confusion_matrix2)"
      ],
      "execution_count": null,
      "outputs": [
        {
          "output_type": "stream",
          "text": [
            "[[3 1]\n",
            " [2 2]]\n",
            "[[2 1]\n",
            " [2 3]]\n"
          ],
          "name": "stdout"
        }
      ]
    },
    {
      "cell_type": "markdown",
      "metadata": {
        "id": "YXaI-j0AxlJl"
      },
      "source": [
        "accuracy"
      ]
    },
    {
      "cell_type": "code",
      "metadata": {
        "colab": {
          "base_uri": "https://localhost:8080/"
        },
        "id": "oZUShJh4xnv4",
        "outputId": "d71af728-18b1-4195-bc84-3b967ab28d84"
      },
      "source": [
        "from sklearn.metrics import accuracy_score\n",
        "\n",
        "# 0,1で表される二値分類の真の値と予測値\n",
        "y_true = [1, 0, 1, 1, 0, 1, 1, 0]\n",
        "y_pred = [0, 0, 1, 1, 0, 0, 1, 1]\n",
        "\n",
        "accuracy = accuracy_score(y_true , y_pred)\n",
        "print(accuracy)"
      ],
      "execution_count": null,
      "outputs": [
        {
          "output_type": "stream",
          "text": [
            "0.625\n"
          ],
          "name": "stdout"
        }
      ]
    },
    {
      "cell_type": "markdown",
      "metadata": {
        "id": "Rdnk9pYD4RJa"
      },
      "source": [
        "logloss"
      ]
    },
    {
      "cell_type": "code",
      "metadata": {
        "colab": {
          "base_uri": "https://localhost:8080/"
        },
        "id": "k578VCK_x4ug",
        "outputId": "0c382171-64da-4ca1-86ef-963e2d7b9b40"
      },
      "source": [
        "from sklearn.metrics import log_loss\n",
        "\n",
        "# 0,1で表される二値分類の真の値と予測値\n",
        "y_true = [1, 0, 1, 1, 0, 1]\n",
        "y_pred = [0.1, 0.2, 0.8, 0.8, 0.1, 0.3]\n",
        "\n",
        "logloss = log_loss(y_true , y_pred)\n",
        "print(logloss)"
      ],
      "execution_count": null,
      "outputs": [
        {
          "output_type": "stream",
          "text": [
            "0.7135581778200728\n"
          ],
          "name": "stdout"
        }
      ]
    },
    {
      "cell_type": "markdown",
      "metadata": {
        "id": "xFtnXJhK4U7B"
      },
      "source": [
        "multi accuracy"
      ]
    },
    {
      "cell_type": "code",
      "metadata": {
        "colab": {
          "base_uri": "https://localhost:8080/"
        },
        "id": "U-UkVjSP4Zls",
        "outputId": "889cc755-bbef-45f0-cf20-1cf59964da27"
      },
      "source": [
        "from sklearn.metrics import log_loss\n",
        "\n",
        "# 0,1で表される二値分類の真の値と予測値\n",
        "y_true = [0, 2, 1, 2, 2]\n",
        "y_pred = [[0.68, 0.32, 0.00],\n",
        "          [0.00, 0.00, 1.00],\n",
        "          [0.60, 0.40, 0.00],\n",
        "          [0.00, 0.00, 1.00],\n",
        "          [0.28, 0.12, 0.60],\n",
        "          ]\n",
        "\n",
        "logloss = log_loss(y_true , y_pred)\n",
        "print(logloss)"
      ],
      "execution_count": null,
      "outputs": [
        {
          "output_type": "stream",
          "text": [
            "0.3625557672904274\n"
          ],
          "name": "stdout"
        }
      ]
    },
    {
      "cell_type": "markdown",
      "metadata": {
        "id": "50gxRnXHbA_a"
      },
      "source": [
        "# 評価指標と目的関数の違い\n",
        "- 目的関数\n",
        "  - 目的関数はモデルの学習において最適化される関数であり、目的関数が最小化されるように学習が進む。\n",
        "  - うまく学習を進めるためには、目的関数は微分可能である必要がある。\n",
        "  - 回帰タスクはＲＭＳＥ、分類タスクはloglossが用いられることがおおい。\n",
        "- 評価指標\n",
        "  - モデルの良しあしを測る指標\n",
        "  - ビジネス上の価値基準を用いて指標を決定することが多い\n",
        "  - 予測値を変えたときのスコアの変化が数学的に扱いにくいなど、目的関数としてしようとしてもうまくいかないことが多い\n",
        "\n",
        "  目的関数と評価指標があっている場合、評価指標に対して最適化できている。\n",
        "  あっていない場合は、カスタム目的関数を用いて対応するなど必要\n",
        "# カスタム目的関数\n",
        "モデルやライブラリで提供されていない評価指標や目的関数を作成する必要がある。\n",
        "指定することにより以下のことが実現可能\n",
        " - その関数を最小化する学習が可能\n",
        " - スコアが学習時にモニタリング可能\n",
        "\n",
        " APIで実装する必要あり"
      ]
    },
    {
      "cell_type": "code",
      "metadata": {
        "colab": {
          "base_uri": "https://localhost:8080/"
        },
        "id": "ugH5CZcOlZAE",
        "outputId": "58ad5a0d-7539-4ebb-dbbd-172282af1c0e"
      },
      "source": [
        "import numpy as np\n",
        "import pandas as pd\n",
        "from google.colab import drive\n",
        "drive.mount('/content/drive')\n",
        "\n",
        "train = pd.read_csv('/content/drive/MyDrive/参考書/Kaggleで勝つデータ分析の技術/kagglebook-master/input/ch01-titanic/train.csv')\n",
        "train_x = train.drop(['Survived'],axis =1)\n",
        "train_y = train['Survived']\n",
        "test = pd.read_csv('/content/drive/MyDrive/参考書/Kaggleで勝つデータ分析の技術/kagglebook-master/input/ch01-titanic/test.csv')\n",
        "test_x = test.copy()\n",
        "from sklearn.model_selection import KFold\n",
        "\n",
        "kf = KFold(n_splits=4, shuffle=True, random_state=71)\n",
        "tr_idx, va_idx = list(kf.split(train_x))[0]\n",
        "tr_x, va_x = train_x.iloc[tr_idx], train_x.iloc[va_idx]\n",
        "tr_y, va_y = train_y.iloc[tr_idx], train_y.iloc[va_idx]"
      ],
      "execution_count": 1,
      "outputs": [
        {
          "output_type": "stream",
          "text": [
            "Mounted at /content/drive\n"
          ],
          "name": "stdout"
        }
      ]
    },
    {
      "cell_type": "code",
      "metadata": {
        "id": "416VUN5JmiHw"
      },
      "source": [
        "from  sklearn.preprocessing import LabelEncoder\n",
        "\n",
        "# 変数PassengerIdを除去\n",
        "train_x = train_x.drop(['PassengerId'],axis=1)\n",
        "test_x = test_x.drop(['PassengerId'],axis=1)\n",
        "\n",
        "# 変数Name,Ticket,Cabiを削除\n",
        "train_x = train_x.drop(['Name','Ticket','Cabin'],axis=1)\n",
        "test_x = test_x.drop(['Name','Ticket','Cabin'],axis=1)\n",
        "\n",
        "# それぞれのカテゴリ変数にlabel encoding\n",
        "for c in ['Sex','Embarked']:\n",
        "  # 学習データに基づいてどう変換するかを定める\n",
        "  le = LabelEncoder()\n",
        "  le.fit(train_x[c].fillna('NA'))\n",
        "\n",
        "  # 学習データ、テストデータを変換する\n",
        "  train_x[c] = le.transform(train_x[c].fillna('NA'))\n",
        "  test_x[c] = le.transform(test_x[c].fillna('NA'))"
      ],
      "execution_count": 10,
      "outputs": []
    },
    {
      "cell_type": "code",
      "metadata": {
        "id": "JXy5Yhc2mtaB"
      },
      "source": [
        "kf = KFold(n_splits=4, shuffle=True, random_state=71)\n",
        "for tr_idx, va_idx in kf.split(train_x):\n",
        "  # 学習データを学習データとバリデーションデータに分ける\n",
        "  tr_x,va_x = train_x.iloc[tr_idx],train_x.iloc[va_idx]\n",
        "  tr_y,va_y = train_y.iloc[tr_idx],train_y.iloc[va_idx]"
      ],
      "execution_count": 12,
      "outputs": []
    },
    {
      "cell_type": "code",
      "metadata": {
        "colab": {
          "base_uri": "https://localhost:8080/"
        },
        "id": "LDb4H7ZGdypl",
        "outputId": "e16166d5-d1bd-47b0-abb0-6851c558b1a7"
      },
      "source": [
        "import xgboost as xgb\n",
        "from sklearn.metrics import log_loss\n",
        "\n",
        "# 特徴量と目的変数をxgboostのデータ構造に変換\n",
        "# 学習データの特徴量と目的変数がtr_x、tr_y、バリデーションデータの特徴量と目的変数がva_x、va_とする\n",
        "dtrain = xgb.DMatrix(tr_x ,label=tr_y)\n",
        "dvalid = xgb.DMatrix(va_x ,label=va_y)\n",
        "\n",
        "# カスタム目的変数（この場合はloglossであり、xgboostの'binary:logistic'と等価\n",
        "def logregobj(preds,dtrain):\n",
        "  # 真のラベルを取得\n",
        "  labels = dtrain.get_label()\n",
        "  # シグモイド関数\n",
        "  preds = 1.0/(1.0 + np.exp(-preds))\n",
        "  # 勾配\n",
        "  grad = preds - labels\n",
        "  # 二階微分値\n",
        "  hess = preds*(1.0 - preds)\n",
        "  return grad, hess\n",
        "\n",
        "# カスタム評価指標（この場合は誤答率）\n",
        "def evalerror(preds, dtrain):\n",
        "  # 真の値のラベルを取得\n",
        "  labels = dtrain.get_label()\n",
        "  return 'custom-error' , float(sum(labels != (preds > 0.0))) / len(labels)\n",
        "\n",
        "# ハイパーパラメータの設定\n",
        "params = {'silent': 1, 'random_state' : 71}\n",
        "num_round = 50\n",
        "watchlist = [(dtrain, 'train'), (dvalid,'eval')]\n",
        "\n",
        "# モデルの学習の実行\n",
        "bst = xgb.train(params, dtrain ,num_round ,watchlist ,obj = logregobj, feval=evalerror)\n",
        "\n",
        "# 目的関数にbinary:logisticを指定した時と異なり、確率に変換する前の値で予測値が出力されるため変換が必要\n",
        "pred_val = bst.predict(dvalid)\n",
        "pred = 1.0 / (1.0 + np.exp(-pred_val))\n",
        "logloss = log_loss(va_y, pred)\n",
        "print(log_loss)\n",
        "\n",
        "# 通常\n",
        "params = {'silent' : 1, 'random_state' : 71 ,'objective' : 'binary:logistic'}\n",
        "bst = xgb.train(params,dtrain,num_round,watchlist)\n",
        "\n",
        "pred = bst.predict(dvalid)\n",
        "logloss = log_loss(va_y,pred)\n",
        "print(logloss)"
      ],
      "execution_count": 18,
      "outputs": [
        {
          "output_type": "stream",
          "text": [
            "[0]\ttrain-rmse:0.379629\teval-rmse:0.438629\ttrain-custom-error:0.201794\teval-custom-error:0.189189\n",
            "[1]\ttrain-rmse:0.602879\teval-rmse:0.673732\ttrain-custom-error:0.155456\teval-custom-error:0.175676\n",
            "[2]\ttrain-rmse:0.831602\teval-rmse:0.895301\ttrain-custom-error:0.134529\teval-custom-error:0.193694\n",
            "[3]\ttrain-rmse:1.03692\teval-rmse:1.09628\ttrain-custom-error:0.130045\teval-custom-error:0.175676\n",
            "[4]\ttrain-rmse:1.21737\teval-rmse:1.29041\ttrain-custom-error:0.115097\teval-custom-error:0.175676\n",
            "[5]\ttrain-rmse:1.37494\teval-rmse:1.47172\ttrain-custom-error:0.118087\teval-custom-error:0.175676\n",
            "[6]\ttrain-rmse:1.50554\teval-rmse:1.61331\ttrain-custom-error:0.118087\teval-custom-error:0.184685\n",
            "[7]\ttrain-rmse:1.62626\teval-rmse:1.74989\ttrain-custom-error:0.106129\teval-custom-error:0.184685\n",
            "[8]\ttrain-rmse:1.7364\teval-rmse:1.87267\ttrain-custom-error:0.113602\teval-custom-error:0.189189\n",
            "[9]\ttrain-rmse:1.83466\teval-rmse:1.95983\ttrain-custom-error:0.09716\teval-custom-error:0.18018\n",
            "[10]\ttrain-rmse:1.88392\teval-rmse:1.99326\ttrain-custom-error:0.09417\teval-custom-error:0.171171\n",
            "[11]\ttrain-rmse:1.93612\teval-rmse:2.03559\ttrain-custom-error:0.086697\teval-custom-error:0.166667\n",
            "[12]\ttrain-rmse:1.98925\teval-rmse:2.10226\ttrain-custom-error:0.083707\teval-custom-error:0.171171\n",
            "[13]\ttrain-rmse:2.06392\teval-rmse:2.17027\ttrain-custom-error:0.080717\teval-custom-error:0.18018\n",
            "[14]\ttrain-rmse:2.09729\teval-rmse:2.20903\ttrain-custom-error:0.077728\teval-custom-error:0.171171\n",
            "[15]\ttrain-rmse:2.14535\teval-rmse:2.26345\ttrain-custom-error:0.077728\teval-custom-error:0.171171\n",
            "[16]\ttrain-rmse:2.20284\teval-rmse:2.32746\ttrain-custom-error:0.073244\teval-custom-error:0.175676\n",
            "[17]\ttrain-rmse:2.24563\teval-rmse:2.36626\ttrain-custom-error:0.073244\teval-custom-error:0.162162\n",
            "[18]\ttrain-rmse:2.28997\teval-rmse:2.41626\ttrain-custom-error:0.071749\teval-custom-error:0.166667\n",
            "[19]\ttrain-rmse:2.33746\teval-rmse:2.44276\ttrain-custom-error:0.071749\teval-custom-error:0.175676\n",
            "[20]\ttrain-rmse:2.36371\teval-rmse:2.46421\ttrain-custom-error:0.068759\teval-custom-error:0.166667\n",
            "[21]\ttrain-rmse:2.40355\teval-rmse:2.50955\ttrain-custom-error:0.070254\teval-custom-error:0.162162\n",
            "[22]\ttrain-rmse:2.41406\teval-rmse:2.51707\ttrain-custom-error:0.06577\teval-custom-error:0.162162\n",
            "[23]\ttrain-rmse:2.44867\teval-rmse:2.54706\ttrain-custom-error:0.064275\teval-custom-error:0.166667\n",
            "[24]\ttrain-rmse:2.46169\teval-rmse:2.54584\ttrain-custom-error:0.06278\teval-custom-error:0.162162\n",
            "[25]\ttrain-rmse:2.50962\teval-rmse:2.58553\ttrain-custom-error:0.059791\teval-custom-error:0.166667\n",
            "[26]\ttrain-rmse:2.54118\teval-rmse:2.605\ttrain-custom-error:0.058296\teval-custom-error:0.166667\n",
            "[27]\ttrain-rmse:2.57377\teval-rmse:2.63536\ttrain-custom-error:0.056801\teval-custom-error:0.162162\n",
            "[28]\ttrain-rmse:2.58743\teval-rmse:2.64176\ttrain-custom-error:0.053812\teval-custom-error:0.166667\n",
            "[29]\ttrain-rmse:2.61471\teval-rmse:2.67612\ttrain-custom-error:0.052317\teval-custom-error:0.171171\n",
            "[30]\ttrain-rmse:2.63623\teval-rmse:2.69192\ttrain-custom-error:0.052317\teval-custom-error:0.175676\n",
            "[31]\ttrain-rmse:2.65115\teval-rmse:2.70743\ttrain-custom-error:0.055306\teval-custom-error:0.171171\n",
            "[32]\ttrain-rmse:2.66861\teval-rmse:2.72779\ttrain-custom-error:0.055306\teval-custom-error:0.175676\n",
            "[33]\ttrain-rmse:2.68199\teval-rmse:2.7433\ttrain-custom-error:0.055306\teval-custom-error:0.175676\n",
            "[34]\ttrain-rmse:2.69467\teval-rmse:2.75127\ttrain-custom-error:0.056801\teval-custom-error:0.175676\n",
            "[35]\ttrain-rmse:2.7498\teval-rmse:2.81154\ttrain-custom-error:0.049327\teval-custom-error:0.184685\n",
            "[36]\ttrain-rmse:2.7594\teval-rmse:2.81665\ttrain-custom-error:0.047833\teval-custom-error:0.184685\n",
            "[37]\ttrain-rmse:2.78292\teval-rmse:2.84294\ttrain-custom-error:0.047833\teval-custom-error:0.184685\n",
            "[38]\ttrain-rmse:2.80934\teval-rmse:2.86758\ttrain-custom-error:0.046338\teval-custom-error:0.189189\n",
            "[39]\ttrain-rmse:2.84416\teval-rmse:2.89889\ttrain-custom-error:0.046338\teval-custom-error:0.18018\n",
            "[40]\ttrain-rmse:2.86014\teval-rmse:2.91135\ttrain-custom-error:0.046338\teval-custom-error:0.18018\n",
            "[41]\ttrain-rmse:2.89795\teval-rmse:2.96981\ttrain-custom-error:0.046338\teval-custom-error:0.175676\n",
            "[42]\ttrain-rmse:2.92825\teval-rmse:2.9977\ttrain-custom-error:0.047833\teval-custom-error:0.175676\n",
            "[43]\ttrain-rmse:2.94581\teval-rmse:3.01854\ttrain-custom-error:0.046338\teval-custom-error:0.18018\n",
            "[44]\ttrain-rmse:2.9796\teval-rmse:3.04614\ttrain-custom-error:0.049327\teval-custom-error:0.175676\n",
            "[45]\ttrain-rmse:3.00945\teval-rmse:3.07278\ttrain-custom-error:0.046338\teval-custom-error:0.18018\n",
            "[46]\ttrain-rmse:3.03171\teval-rmse:3.0958\ttrain-custom-error:0.049327\teval-custom-error:0.171171\n",
            "[47]\ttrain-rmse:3.03675\teval-rmse:3.10429\ttrain-custom-error:0.046338\teval-custom-error:0.175676\n",
            "[48]\ttrain-rmse:3.06056\teval-rmse:3.12996\ttrain-custom-error:0.046338\teval-custom-error:0.175676\n",
            "[49]\ttrain-rmse:3.06684\teval-rmse:3.13244\ttrain-custom-error:0.044843\teval-custom-error:0.18018\n",
            "<function log_loss at 0x7fa78b8083b0>\n",
            "[0]\ttrain-error:0.140508\teval-error:0.171171\n",
            "[1]\ttrain-error:0.125561\teval-error:0.18018\n",
            "[2]\ttrain-error:0.124066\teval-error:0.202703\n",
            "[3]\ttrain-error:0.122571\teval-error:0.184685\n",
            "[4]\ttrain-error:0.112108\teval-error:0.18018\n",
            "[5]\ttrain-error:0.109118\teval-error:0.166667\n",
            "[6]\ttrain-error:0.106129\teval-error:0.157658\n",
            "[7]\ttrain-error:0.101644\teval-error:0.157658\n",
            "[8]\ttrain-error:0.103139\teval-error:0.162162\n",
            "[9]\ttrain-error:0.101644\teval-error:0.166667\n",
            "[10]\ttrain-error:0.100149\teval-error:0.162162\n",
            "[11]\ttrain-error:0.095665\teval-error:0.171171\n",
            "[12]\ttrain-error:0.088191\teval-error:0.162162\n",
            "[13]\ttrain-error:0.086697\teval-error:0.166667\n",
            "[14]\ttrain-error:0.083707\teval-error:0.166667\n",
            "[15]\ttrain-error:0.080717\teval-error:0.166667\n",
            "[16]\ttrain-error:0.080717\teval-error:0.166667\n",
            "[17]\ttrain-error:0.082212\teval-error:0.175676\n",
            "[18]\ttrain-error:0.076233\teval-error:0.175676\n",
            "[19]\ttrain-error:0.073244\teval-error:0.171171\n",
            "[20]\ttrain-error:0.071749\teval-error:0.18018\n",
            "[21]\ttrain-error:0.070254\teval-error:0.18018\n",
            "[22]\ttrain-error:0.068759\teval-error:0.18018\n",
            "[23]\ttrain-error:0.068759\teval-error:0.175676\n",
            "[24]\ttrain-error:0.067265\teval-error:0.175676\n",
            "[25]\ttrain-error:0.06577\teval-error:0.175676\n",
            "[26]\ttrain-error:0.064275\teval-error:0.175676\n",
            "[27]\ttrain-error:0.058296\teval-error:0.171171\n",
            "[28]\ttrain-error:0.053812\teval-error:0.171171\n",
            "[29]\ttrain-error:0.055306\teval-error:0.166667\n",
            "[30]\ttrain-error:0.055306\teval-error:0.171171\n",
            "[31]\ttrain-error:0.055306\teval-error:0.171171\n",
            "[32]\ttrain-error:0.053812\teval-error:0.175676\n",
            "[33]\ttrain-error:0.046338\teval-error:0.171171\n",
            "[34]\ttrain-error:0.047833\teval-error:0.166667\n",
            "[35]\ttrain-error:0.049327\teval-error:0.171171\n",
            "[36]\ttrain-error:0.047833\teval-error:0.166667\n",
            "[37]\ttrain-error:0.046338\teval-error:0.175676\n",
            "[38]\ttrain-error:0.046338\teval-error:0.18018\n",
            "[39]\ttrain-error:0.040359\teval-error:0.184685\n",
            "[40]\ttrain-error:0.041854\teval-error:0.189189\n",
            "[41]\ttrain-error:0.041854\teval-error:0.189189\n",
            "[42]\ttrain-error:0.041854\teval-error:0.18018\n",
            "[43]\ttrain-error:0.038864\teval-error:0.184685\n",
            "[44]\ttrain-error:0.038864\teval-error:0.184685\n",
            "[45]\ttrain-error:0.037369\teval-error:0.184685\n",
            "[46]\ttrain-error:0.035874\teval-error:0.18018\n",
            "[47]\ttrain-error:0.038864\teval-error:0.18018\n",
            "[48]\ttrain-error:0.037369\teval-error:0.18018\n",
            "[49]\ttrain-error:0.037369\teval-error:0.175676\n",
            "0.4910856771439121\n"
          ],
          "name": "stdout"
        }
      ]
    },
    {
      "cell_type": "markdown",
      "metadata": {
        "id": "KmwX8_r34Ip8"
      },
      "source": [
        "# 評価指標の最適化\n",
        "## 評価指標の最適化のアプローチ\n",
        "- 正しくモデリング\n",
        "  - 評価指標と目的関数を同じものにすることで最適化できる\n",
        "- 前処理により異なる評価指標を最適化\n",
        "  - 評価指標がRMSLEの場合、学習データの目的変数の対数をとって変換し、目的関数をRMSEで学習したあと、指数関数で変換\n",
        "- 異なる評価指標の最適化を行ったあとに後処理\n",
        "  - 学習後、評価指標の性質に基づいて計算・最適化アルゴリズムを用いてい閾値を最適化\n",
        "- カスタム目的関数\n",
        "- 異なる評価指標を最適化しアーリーストッピング\n",
        "  - 評価がちょうど望む指標が最適になる時点で学習をやめる\n",
        "\n",
        "## 閾値の最適化\n",
        "正か負か判断する場合、閾値で判定\n",
        "F1-scoreの場合、場合によって0.5が閾値ではなくなるため下記の方法などで最適な閾値を算出\n",
        "- とりうる閾値すべてを調査\n",
        "   - 0.01--0.99まで0.01ずつ走査\n",
        "- 最適化アルゴリズム\n",
        "  - scipy.optimizeなどを用いて、閾値を引数にしスコアを返す関数を最適化"
      ]
    },
    {
      "cell_type": "markdown",
      "metadata": {
        "id": "Is2jcsA28AfD"
      },
      "source": [
        "目的関数が微分可能でなくても使用できる最適化アルゴリズムnelder-meadを使用する。\n",
        "(cobyla:制約式を設定できるアルゴリズム\n",
        "、slsqp:目的関数、製薬式が微分可能であることを必要とするアルゴリズム)"
      ]
    },
    {
      "cell_type": "code",
      "metadata": {
        "colab": {
          "base_uri": "https://localhost:8080/"
        },
        "id": "kdpAA2gU8kaR",
        "outputId": "834ed8ba-fc36-42bb-9593-bb74b247b327"
      },
      "source": [
        "from sklearn.metrics import  f1_score\n",
        "from scipy.optimize import minimize\n",
        "# サンプルデータ生成の準備\n",
        "rand = np.random.RandomState(seed = 71)\n",
        "train_y_prob = np.linspace(0, 1.0, 10000)\n",
        "\n",
        "# 真の値と予測値が以下だとする\n",
        "# 条件に当てはまるものをtrue,faulseとして配列を作成\n",
        "train_y =pd.Series(rand.uniform(0.0, 1.0, train_y_prob.size) < train_y_prob)\n",
        "# obj.clip(配列、最小値、最大値)：配列の中の数字を最小値以上最大値以下\n",
        "train_pred_prob = np.clip(train_y_prob * np.exp(rand.standard_normal(train_y_prob.shape) * 0.3),0.0 ,1.0)\n",
        "\n",
        "init_threshold = 0.5\n",
        "init_score = f1_score(train_y, train_pred_prob >= init_threshold)\n",
        "print(init_threshold, init_score)\n",
        "\n",
        "# 最適化の目的関数を設定\n",
        "def f1_opt(x):\n",
        "  return -f1_score(train_y, train_pred_prob >= x)\n",
        "\n",
        "# scipy.optimizeのminimizeメソッドで最適な閾値を求める\n",
        "result = minimize(f1_opt, x0=np.array([0.5]), method=\"Nelder-Mead\")\n",
        "best_threshold = result['x'].item()\n",
        "best_score = f1_score(train_y, train_pred_prob >= best_threshold)\n",
        "print(best_threshold, best_score)"
      ],
      "execution_count": 12,
      "outputs": [
        {
          "output_type": "stream",
          "text": [
            "0.5 0.7224831529507862\n",
            "[0.32324219]\n",
            "0.32324218749999983 0.7557317703844165\n"
          ],
          "name": "stdout"
        }
      ]
    },
    {
      "cell_type": "code",
      "metadata": {
        "id": "W_Ao9aUJCHX3"
      },
      "source": [
        ""
      ],
      "execution_count": null,
      "outputs": []
    }
  ]
}