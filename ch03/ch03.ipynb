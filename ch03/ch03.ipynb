{
  "nbformat": 4,
  "nbformat_minor": 0,
  "metadata": {
    "colab": {
      "name": "ch03.ipynb",
      "provenance": [],
      "collapsed_sections": [],
      "authorship_tag": "ABX9TyOuUI+2xB9udR0EFzjgA+2s",
      "include_colab_link": true
    },
    "kernelspec": {
      "name": "python3",
      "display_name": "Python 3"
    },
    "language_info": {
      "name": "python"
    }
  },
  "cells": [
    {
      "cell_type": "markdown",
      "metadata": {
        "id": "view-in-github",
        "colab_type": "text"
      },
      "source": [
        "<a href=\"https://colab.research.google.com/github/kuuumaaaa/data_analyze_technique_in_kaggle/blob/main/ch03/ch03.ipynb\" target=\"_parent\"><img src=\"https://colab.research.google.com/assets/colab-badge.svg\" alt=\"Open In Colab\"/></a>"
      ]
    },
    {
      "cell_type": "markdown",
      "metadata": {
        "id": "tuFPVt2vgb1F"
      },
      "source": [
        "# モデルと特徴量\n",
        "## GBDT\n",
        "テーブルデータはGBDT(Gradient Boostiongn Decision Tree)がメイン、決定木をベース\n",
        "- 数値の大きさではなく大小関係が影響\n",
        "- 欠損値をそのまま使用可能\n",
        "- 決定木の分岐の繰り返しで変数間の層が作用を反映\n",
        "\n",
        "onehotencodingでなくlabel encodingても、各カテゴリの影響を反映\n",
        "（スケーリングや欠損値の処理が有効や必要な場合がある）\n",
        "\n",
        "## ニューラルネットワーク\n",
        "特徴\n",
        "- 数値の大きさ影響\n",
        "- 欠損値入れる\n",
        "- 前の層の出力を結合する計算によって変数間の相互作用がある\n",
        "\n",
        "label-encodingの大小関係が影響を与えるためonehotencondingがよい\n",
        "\n",
        "## 線形モデル\n",
        "- 予測値を線形和で算出\n",
        "\n",
        "対数で比例する場合は対数変換が必要\n",
        "非線形の売は非線形変換が必要\n",
        "相互作用を入れたいときは変数を組み合わせた特徴量を作成\n",
        "\n",
        "## 決定木で考える\n",
        "GBDTは多くのデータ数、適切なデータを含んでいると、相互作用や非線形性を反映し予測できる。存在しない情報や相互作用を直接表現した特徴量が反映されやすい。\n",
        "現在与えられている入力から読み取れにくい情報を追加で与えるのが特徴量を作るイメージ\n",
        "- 影響のある特徴量が購入額を購入量で除した値の時、購入額と購入量を特徴量へ入れるだけでなく、その除した値も入れたほうが影響を反映しやすい。\n",
        "\n"
      ]
    },
    {
      "cell_type": "markdown",
      "metadata": {
        "id": "aJ8sytbEskQb"
      },
      "source": [
        "# 欠損値の扱い\n",
        "欠損値の理由\n",
        "- 値が存在しない\n",
        "  - 個人と法人が混在している際の法人の年齢、人数ゼロの場合の平均\n",
        "- 何らかの意図がある\n",
        "  - 入力フォームミス、観測しない\n",
        "- 値取得失敗\n",
        "  - 人的ミスや機器エラーなど\n",
        "\n",
        "xgboostやlightgbmなどのGBDTライブラリは欠損値そのまま使用可能のため、欠損値をそのまま取り扱う。（欠損値を保管したほうが制度上がる場合あり）\n",
        "\n",
        "欠損値を埋める方法としては\n",
        "- 代表値で埋める方法\n",
        "- 欠損値をほかの変数から予測して埋める方法\n",
        "- 欠損値から新たな特徴量を作成する方法\n",
        "- 欠損値を含むレコード・変数を除外する方法\n",
        "  - テストデータに欠損値が含まれている場合がある\n",
        "  - 情報を漏らす可能性あり\n",
        "\n",
        "## 欠損値のまま扱う\n",
        "scikit-learnのrandomフォレストは欠損値を扱えないが、決定木であるため、\n",
        "欠損値が入っているところに-9999など通常とりうる範囲外の値を与えることで欠損値を模擬\n",
        "\n",
        "## 欠損値を代表値で埋める\n",
        "欠損の発生が\n",
        "\n"
      ]
    }
  ]
}